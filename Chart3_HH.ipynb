{
 "cells": [
  {
   "cell_type": "markdown",
   "metadata": {},
   "source": [
    "# Team Project MSIS 2629\n",
    "Hariz Hisham, Qing Zhang\n",
    "\n",
    "This notebook details the data collection, feature engineering, and visualization for Team Project: First Revision.\n",
    "\n",
    "Get the data [here](https://www.opensecrets.org/news/issues/guns).<br>\n",
    "Alternatively, use [this](https://docs.google.com/spreadsheets/d/1-7PdCI2NawSgP1QE-cGYVYedetYqepR-4jBweaJyqFo/edit#gid=1782600961) link.\n",
    "\n",
    "Dependencies:\n",
    "* None\n",
    "\n",
    "Downstream use:\n",
    "* Prepared charts to be integrated with other charts for submission"
   ]
  },
  {
   "cell_type": "code",
   "execution_count": 2,
   "metadata": {},
   "outputs": [
    {
     "name": "stdout",
     "output_type": "stream",
     "text": [
      "Populating the interactive namespace from numpy and matplotlib\n"
     ]
    }
   ],
   "source": [
    "%pylab inline\n",
    "import pandas as pd\n",
    "import altair as alt\n",
    "import seaborn as sns\n",
    "#import re\n",
    "from IPython.display import Image"
   ]
  },
  {
   "cell_type": "markdown",
   "metadata": {},
   "source": [
    "## Chart 3"
   ]
  },
  {
   "cell_type": "markdown",
   "metadata": {},
   "source": [
    "### Read in the file"
   ]
  },
  {
   "cell_type": "code",
   "execution_count": 12,
   "metadata": {},
   "outputs": [],
   "source": [
    "df = pd.read_csv('congress_funding.csv', index_col = False)"
   ]
  },
  {
   "cell_type": "markdown",
   "metadata": {},
   "source": [
    "### Feature engineering"
   ]
  },
  {
   "cell_type": "code",
   "execution_count": 13,
   "metadata": {},
   "outputs": [],
   "source": [
    "# Create a new column with state label for downstream purposes\n",
    "# We'll use this when exploring how much funding from lobbyists each state receives\n",
    "df['Stateid'] = df.Distid.str[:2]\n",
    "df = df.drop(columns = ['Unnamed: 10', 'Unnamed: 11'])  # Drop unwanted columns\n",
    "\n",
    "# Add total funding from gun control and gun rights to new col 'Total Funding' \n",
    "# to check how much funding each congressman receives from lobbyist \n",
    "df['Total Funding'] = df['Total from Gun Control'] + df['Total From Gun Rights']\n",
    "\n",
    "# Next, we label each congressman which 'stance' they are on based on which lobbyist pays them more.\n",
    "# If congressman receives more from gun control, label as 'Control'; similar for gun rights.\n",
    "# If they are not funded by gun control/rights lobbyist, or have equal funding, they are 'undecided'\n",
    "# This will be useful in categorization when visualizing funding purposes\n",
    "df['Stance'] = np.where(df['Total from Gun Control'] > df['Total From Gun Rights'], 'Control', 'Rights')\n",
    "df['Stance'] = np.where(df['Total from Gun Control'] == df['Total From Gun Rights'], 'Undecided', df['Stance'])\n",
    "\n",
    "# We log the funding to scale down large differences between categories\n",
    "df['log_grights'] = log(1 + df['Total From Gun Rights'])\n",
    "df['log_gcontrol'] = log(1 + df['Total from Gun Control'])\n",
    "df['log_totalfund'] = log(1 + df['Total Funding'])\n",
    "\n",
    "# Rename columns for Party and Office\n",
    "df.Party = np.where(df.Party == 'R', 'Republican', df.Party)\n",
    "df.Party = np.where(df.Party == 'D', 'Democrat', df.Party)\n",
    "df.Party = np.where(df.Party == 'I', 'Independent', df.Party)\n",
    "df.Office = np.where(df.Office == 'S', 'Senate', 'House')"
   ]
  },
  {
   "cell_type": "code",
   "execution_count": 21,
   "metadata": {},
   "outputs": [],
   "source": [
    "df = df[df.Party != 'Independent']\n",
    "df = df[df.Stance != 'Undecided']"
   ]
  },
  {
   "cell_type": "markdown",
   "metadata": {},
   "source": [
    "### Visualization"
   ]
  },
  {
   "cell_type": "markdown",
   "metadata": {},
   "source": [
    "Our goal was to create a single visualization delivering our core message:\n",
    "> There are higher rates of civilian firearm ownership in the United States because of relaxed laws across states as well as pro-firearm ownership lobbyists buying their way into Congress"
   ]
  },
  {
   "cell_type": "markdown",
   "metadata": {},
   "source": [
    "The first chart below shows total funding received by Congressmen in both Houses, from both Political Parties (including Ind.). "
   ]
  },
  {
   "cell_type": "code",
   "execution_count": 22,
   "metadata": {},
   "outputs": [
    {
     "data": {
      "text/plain": [
       "<seaborn.axisgrid.FacetGrid at 0x15dc46c34a8>"
      ]
     },
     "execution_count": 22,
     "metadata": {},
     "output_type": "execute_result"
    },
    {
     "data": {
      "image/png": "[encoded data removed]",
      "text/plain": [
       "<Figure size 811.625x360 with 2 Axes>"
      ]
     },
     "metadata": {
      "needs_background": "light"
     },
     "output_type": "display_data"
    }
   ],
   "source": [
    "X = 'Office'\n",
    "y = 'Total Funding'\n",
    "\n",
    "sns.catplot(X, y, col = 'Stance', hue = 'Party', data = df, kind = 'bar', palette = 'Set1', ci = None)"
   ]
  },
  {
   "cell_type": "markdown",
   "metadata": {},
   "source": [
    "Alternatively, we could divide the charts into Senate and House of Representatives, with the Congressman's stance on firearm control/rights identified by color."
   ]
  },
  {
   "cell_type": "code",
   "execution_count": 23,
   "metadata": {},
   "outputs": [
    {
     "data": {
      "text/plain": [
       "<seaborn.axisgrid.FacetGrid at 0x15dc46b1eb8>"
      ]
     },
     "execution_count": 23,
     "metadata": {},
     "output_type": "execute_result"
    },
    {
     "data": {
      "image/png": "[encoded data removed]",
      "text/plain": [
       "<Figure size 792.125x360 with 2 Axes>"
      ]
     },
     "metadata": {
      "needs_background": "light"
     },
     "output_type": "display_data"
    }
   ],
   "source": [
    "X = 'Party'\n",
    "y = 'Total Funding'\n",
    "\n",
    "sns.catplot(X, y, col = 'Office', hue = 'Stance', data = df, kind = 'bar', palette = 'Set1', ci = None)"
   ]
  },
  {
   "cell_type": "markdown",
   "metadata": {},
   "source": [
    "### Interesting findings"
   ]
  },
  {
   "cell_type": "markdown",
   "metadata": {},
   "source": [
    "* Republican senators are funded way more by firearm rights lobbyists than those in the House of Representatives. Since the Senate has less people, it's surprising that there is a __higher funding per congressman__ rate for Senators than for Reps. This is probably due to the fact that Senators can overturn a legislation passed by the House (they have more legislative power).\n",
    "\n",
    "* Some Democrat Senators and Reps are being funded by firearm rights lobbyists! This could mean that the issue with gun control is not necessarily a bilateral issue, but could be a __more deeply rooted issue in American society__.\n",
    "\n",
    "* Independents are joining in on the conversation. Yay!\n",
    "\n",
    "* Funding plays a key role in civilian firearm ownership rates"
   ]
  },
  {
   "cell_type": "markdown",
   "metadata": {},
   "source": [
    "### Future improvements "
   ]
  },
  {
   "cell_type": "markdown",
   "metadata": {},
   "source": [
    "1. Add chart title\n",
    "2. Remove Independents entirely from visualization\n",
    "3. Refine meaning of 'Undecided' category (i.e. what if they're funded `$`6500 from Rights and `$`5900 from Control?)\n",
    "4. Use full labels for categories (e.g. Republicans instead of 'R', Senate instead of 'S')\n",
    "5. Instead of 'Office = S' labels, use 'Senate'. Similar for House of Reps."
   ]
  },
  {
   "cell_type": "code",
   "execution_count": null,
   "metadata": {},
   "outputs": [],
   "source": []
  }
 ],
 "metadata": {
  "kernelspec": {
   "display_name": "Python 3",
   "language": "python",
   "name": "python3"
  },
  "language_info": {
   "codemirror_mode": {
    "name": "ipython",
    "version": 3
   },
   "file_extension": ".py",
   "mimetype": "text/x-python",
   "name": "python",
   "nbconvert_exporter": "python",
   "pygments_lexer": "ipython3",
   "version": "3.7.3"
  }
 },
 "nbformat": 4,
 "nbformat_minor": 2
}
